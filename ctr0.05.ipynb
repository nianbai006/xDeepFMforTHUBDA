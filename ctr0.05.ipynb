{
 "cells": [
  {
   "cell_type": "code",
   "execution_count": 1,
   "id": "3c89e765-a0e9-4f1c-ae8e-8b039def137c",
   "metadata": {},
   "outputs": [
    {
     "name": "stderr",
     "output_type": "stream",
     "text": [
      "/root/miniconda3/envs/r3/lib/python3.7/site-packages/tqdm/auto.py:21: TqdmWarning: IProgress not found. Please update jupyter and ipywidgets. See https://ipywidgets.readthedocs.io/en/stable/user_install.html\n",
      "  from .autonotebook import tqdm as notebook_tqdm\n",
      "2024-11-12 05:12:12.945439: I tensorflow/core/platform/cpu_feature_guard.cc:193] This TensorFlow binary is optimized with oneAPI Deep Neural Network Library (oneDNN) to use the following CPU instructions in performance-critical operations:  AVX2 FMA\n",
      "To enable them in other operations, rebuild TensorFlow with the appropriate compiler flags.\n",
      "2024-11-12 05:12:13.929908: W tensorflow/compiler/xla/stream_executor/platform/default/dso_loader.cc:64] Could not load dynamic library 'libnvinfer.so.7'; dlerror: libnvinfer.so.7: cannot open shared object file: No such file or directory; LD_LIBRARY_PATH: /usr/local/nvidia/lib:/usr/local/nvidia/lib64:/usr/local/cuda/lib64\n",
      "2024-11-12 05:12:13.930023: W tensorflow/compiler/xla/stream_executor/platform/default/dso_loader.cc:64] Could not load dynamic library 'libnvinfer_plugin.so.7'; dlerror: libnvinfer_plugin.so.7: cannot open shared object file: No such file or directory; LD_LIBRARY_PATH: /usr/local/nvidia/lib:/usr/local/nvidia/lib64:/usr/local/cuda/lib64\n",
      "2024-11-12 05:12:13.930033: W tensorflow/compiler/tf2tensorrt/utils/py_utils.cc:38] TF-TRT Warning: Cannot dlopen some TensorRT libraries. If you would like to use Nvidia GPU with TensorRT, please make sure the missing libraries mentioned above are installed properly.\n"
     ]
    }
   ],
   "source": [
    "import pandas as pd\n",
    "import torch\n",
    "from sklearn.metrics import log_loss, roc_auc_score\n",
    "from sklearn.model_selection import train_test_split\n",
    "from sklearn.preprocessing import LabelEncoder, MinMaxScaler\n",
    "import numpy as np\n",
    "import random\n",
    "\n",
    "from tqdm import tqdm\n",
    "\n",
    "from deepctr_torch.inputs import SparseFeat, DenseFeat, get_feature_names\n",
    "from deepctr_torch.models import *\n"
   ]
  },
  {
   "cell_type": "code",
   "execution_count": 3,
   "id": "81756712-78da-4049-8b41-484fddd2227d",
   "metadata": {},
   "outputs": [
    {
     "name": "stderr",
     "output_type": "stream",
     "text": [
      "Loading train data: 1529it [04:45,  5.35it/s]\n"
     ]
    }
   ],
   "source": [
    "seed = 6\n",
    "torch.manual_seed(seed)  # 为CPU设置随机种子\n",
    "torch.cuda.manual_seed(seed)  # 为当前GPU设置随机种子\n",
    "torch.cuda.manual_seed_all(seed)  # 为所有GPU设置随机种子\n",
    "np.random.seed(seed)\n",
    "random.seed(seed)\n",
    "\n",
    "sparse_features = ['C' + str(i) for i in range(1, 27)]   #C代表类别特征 class\n",
    "dense_features =  ['I' + str(i) for i in range(1, 14)]   #I代表数值特征 int\n",
    "col_names = ['label'] + dense_features + sparse_features\n",
    "test_col_names = dense_features + sparse_features\n",
    "\n",
    "train_data_fraction = 0.05\n",
    "train_data_chunks = pd.read_csv('./oridata/train.txt', names=col_names, sep='\\t', chunksize=30000)\n",
    "data = pd.concat(chunk.sample(frac=train_data_fraction, random_state=42) for chunk in tqdm(train_data_chunks, desc=\"Loading train data\"))\n",
    "\n",
    "data[sparse_features] = data[sparse_features].fillna('-1', )\n",
    "data[dense_features] = data[dense_features].fillna(0, )\n",
    "target = ['label']\n",
    "\n",
    "# 1.Label Encoding for sparse features,and do simple Transformation for dense features\n",
    "for feat in sparse_features:\n",
    "    lbe = LabelEncoder()\n",
    "    data[feat] = lbe.fit_transform(data[feat])\n",
    "mms = MinMaxScaler(feature_range=(0, 1))\n",
    "data[dense_features] = mms.fit_transform(data[dense_features])\n"
   ]
  },
  {
   "cell_type": "code",
   "execution_count": 4,
   "id": "8c2cc667-9cd2-4c73-be09-8c68fd0441da",
   "metadata": {},
   "outputs": [],
   "source": [
    " fixlen_feature_columns = [SparseFeat(feat, vocabulary_size=data[feat].max() + 1, embedding_dim=4)\n",
    "                          for feat in sparse_features] + [DenseFeat(feat, 1, )\n",
    "                                                          for feat in dense_features]\n",
    "\n",
    "dnn_feature_columns = fixlen_feature_columns\n",
    "linear_feature_columns = fixlen_feature_columns\n",
    "\n",
    "feature_names = get_feature_names(\n",
    "    linear_feature_columns + dnn_feature_columns)\n",
    "\n",
    "# 3.generate input data for model\n",
    "\n",
    "train, test = train_test_split(data, test_size=0.2, random_state=2020)\n",
    "train_model_input = {name: train[name] for name in feature_names}\n",
    "test_model_input = {name: test[name] for name in feature_names}\n"
   ]
  },
  {
   "cell_type": "code",
   "execution_count": 5,
   "id": "8c5044d8-820a-4248-874b-48453bba01fb",
   "metadata": {},
   "outputs": [
    {
     "name": "stdout",
     "output_type": "stream",
     "text": [
      "cuda ready...\n",
      "cuda:0\n",
      "Train on 1466899 samples, validate on 366725 samples, 359 steps per epoch\n"
     ]
    },
    {
     "name": "stderr",
     "output_type": "stream",
     "text": [
      "359it [00:38,  9.24it/s]\n"
     ]
    },
    {
     "name": "stdout",
     "output_type": "stream",
     "text": [
      "Epoch 1/10\n",
      "42s - loss:  0.4860 - binary_crossentropy:  0.4859 - auc:  0.7553 - val_binary_crossentropy:  0.4748 - val_auc:  0.7713\n"
     ]
    },
    {
     "name": "stderr",
     "output_type": "stream",
     "text": [
      "359it [00:31, 11.29it/s]\n"
     ]
    },
    {
     "name": "stdout",
     "output_type": "stream",
     "text": [
      "Epoch 2/10\n",
      "35s - loss:  0.4024 - binary_crossentropy:  0.4023 - auc:  0.8489 - val_binary_crossentropy:  0.5124 - val_auc:  0.7488\n"
     ]
    },
    {
     "name": "stderr",
     "output_type": "stream",
     "text": [
      "359it [00:31, 11.24it/s]\n"
     ]
    },
    {
     "name": "stdout",
     "output_type": "stream",
     "text": [
      "Epoch 3/10\n",
      "35s - loss:  0.3305 - binary_crossentropy:  0.3306 - auc:  0.8972 - val_binary_crossentropy:  0.5278 - val_auc:  0.7433\n"
     ]
    },
    {
     "name": "stderr",
     "output_type": "stream",
     "text": [
      "359it [00:31, 11.24it/s]\n"
     ]
    },
    {
     "name": "stdout",
     "output_type": "stream",
     "text": [
      "Epoch 4/10\n",
      "35s - loss:  0.3045 - binary_crossentropy:  0.3045 - auc:  0.9125 - val_binary_crossentropy:  0.5424 - val_auc:  0.7413\n"
     ]
    },
    {
     "name": "stderr",
     "output_type": "stream",
     "text": [
      "359it [00:31, 11.30it/s]\n"
     ]
    },
    {
     "name": "stdout",
     "output_type": "stream",
     "text": [
      "Epoch 5/10\n",
      "35s - loss:  0.2915 - binary_crossentropy:  0.2916 - auc:  0.9197 - val_binary_crossentropy:  0.5573 - val_auc:  0.7370\n"
     ]
    },
    {
     "name": "stderr",
     "output_type": "stream",
     "text": [
      "359it [00:31, 11.42it/s]\n"
     ]
    },
    {
     "name": "stdout",
     "output_type": "stream",
     "text": [
      "Epoch 6/10\n",
      "34s - loss:  0.2834 - binary_crossentropy:  0.2833 - auc:  0.9244 - val_binary_crossentropy:  0.5690 - val_auc:  0.7373\n"
     ]
    },
    {
     "name": "stderr",
     "output_type": "stream",
     "text": [
      "359it [00:30, 11.89it/s]\n"
     ]
    },
    {
     "name": "stdout",
     "output_type": "stream",
     "text": [
      "Epoch 7/10\n",
      "33s - loss:  0.2767 - binary_crossentropy:  0.2767 - auc:  0.9281 - val_binary_crossentropy:  0.5848 - val_auc:  0.7330\n"
     ]
    },
    {
     "name": "stderr",
     "output_type": "stream",
     "text": [
      "359it [00:31, 11.46it/s]\n"
     ]
    },
    {
     "name": "stdout",
     "output_type": "stream",
     "text": [
      "Epoch 8/10\n",
      "34s - loss:  0.2703 - binary_crossentropy:  0.2703 - auc:  0.9317 - val_binary_crossentropy:  0.5994 - val_auc:  0.7303\n"
     ]
    },
    {
     "name": "stderr",
     "output_type": "stream",
     "text": [
      "359it [00:31, 11.29it/s]\n"
     ]
    },
    {
     "name": "stdout",
     "output_type": "stream",
     "text": [
      "Epoch 9/10\n",
      "35s - loss:  0.2641 - binary_crossentropy:  0.2642 - auc:  0.9352 - val_binary_crossentropy:  0.6202 - val_auc:  0.7258\n"
     ]
    },
    {
     "name": "stderr",
     "output_type": "stream",
     "text": [
      "359it [00:31, 11.51it/s]\n"
     ]
    },
    {
     "name": "stdout",
     "output_type": "stream",
     "text": [
      "Epoch 10/10\n",
      "34s - loss:  0.2579 - binary_crossentropy:  0.2578 - auc:  0.9386 - val_binary_crossentropy:  0.6396 - val_auc:  0.7235\n",
      "\n",
      "test LogLoss 0.6411\n",
      "test AUC 0.7229\n"
     ]
    }
   ],
   "source": [
    " # 4.Define Model,train,predict and evaluate\n",
    "\n",
    "device = 'cpu'\n",
    "use_cuda = True\n",
    "if use_cuda and torch.cuda.is_available():\n",
    "    print('cuda ready...')\n",
    "    device = 'cuda:0'\n",
    "else:\n",
    "    print(\"cpu\")\n",
    "# model = DeepFM(linear_feature_columns=linear_feature_columns, dnn_feature_columns=dnn_feature_columns,\n",
    "#                task='binary',\n",
    "#                l2_reg_embedding=1e-5, device=device)\n",
    "model = xDeepFM(linear_feature_columns=linear_feature_columns, dnn_feature_columns=dnn_feature_columns,\n",
    "               task='binary',\n",
    "               l2_reg_embedding=1e-5, device=device)\n",
    "\n",
    "model.compile(\"adagrad\", \"binary_crossentropy\",\n",
    "              metrics=[\"binary_crossentropy\", \"auc\"], )\n",
    "\n",
    "history = model.fit(train_model_input, train[target].values, batch_size=4096, epochs=10, verbose=1,\n",
    "                    validation_split=0.2)\n",
    "pred_ans = model.predict(test_model_input, 256)\n",
    "print(\"\")\n",
    "print(\"test LogLoss\", round(log_loss(test[target].values, pred_ans), 4))\n",
    "print(\"test AUC\", round(roc_auc_score(test[target].values, pred_ans), 4))"
   ]
  },
  {
   "cell_type": "code",
   "execution_count": null,
   "id": "50faa18a-25dc-4468-a636-b63384b83b49",
   "metadata": {},
   "outputs": [],
   "source": []
  }
 ],
 "metadata": {
  "kernelspec": {
   "display_name": "Python (jupyter)",
   "language": "python",
   "name": "jupyter"
  },
  "language_info": {
   "codemirror_mode": {
    "name": "ipython",
    "version": 3
   },
   "file_extension": ".py",
   "mimetype": "text/x-python",
   "name": "python",
   "nbconvert_exporter": "python",
   "pygments_lexer": "ipython3",
   "version": "3.7.16"
  }
 },
 "nbformat": 4,
 "nbformat_minor": 5
}
